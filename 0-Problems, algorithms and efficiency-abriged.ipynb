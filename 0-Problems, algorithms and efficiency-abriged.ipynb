{
 "cells": [
  {
   "cell_type": "markdown",
   "metadata": {},
   "source": [
    "# Course info\n",
    "\n",
    "**Title:** Data Structures and Algorithms (for the students of Computer Science)\n",
    "\n",
    "**Venue:** Shiraz University, Shiraz, Iran\n",
    "\n",
    "**Instructor:** Reza Rezazadegan\n",
    "\n",
    "**Course webpage:** https://www.dreamintelligent.com/data-structures\n",
    "\n",
    "**Course Github:** https://github.com/rezareza007/datastructs2024\n",
    "\n",
    "**Texts:**\n",
    "- Introduction to Algorithms from MIT Open Courseware, available [here](https://ocw.mit.edu/courses/6-006-introduction-to-algorithms-spring-2020/).\n",
    "- Rance Nicaise, Data Structures and Algorithms Using Python, 2011\n",
    "\n",
    "**Prerequisites:** familiarity with Python programming, including lists, loops, conditionals and classes\n",
    "\n",
    "**Course evaluation:**\n",
    "- In-class problem solving (40 minutes a week, 5 points)\n",
    "- Coding project and presentation (4 points). Projects must be in for of a jupyter notebook. Please check the subject of your project with me in advance.  \n",
    "- Written exam (11 points)\n",
    "\n",
    "\n",
    "**Course syllabus**\n",
    "\n",
    "0- Introductions: Problems, algorithms and efficiency  \n",
    "1- Sequence structure: arrays  \n",
    "2- Sequence structure: linked lists  \n",
    "3- Sequence structure: Queues and Stacks  \n",
    "4- Sets and Maps  \n",
    "5- Sorting and Searching  \n",
    "6- Hashing  \n",
    "7- Advanced sorting  \n",
    "8- Binary Trees  \n",
    "9- AVL Trees  \n",
    "10- Breadth First Search    \n",
    "11- Depth First Search  \n",
    "12- Weighted Shortest Paths  \n",
    "13- Dijkstra algorithm  \n",
    "14- Recursive algorithms  \n",
    "15- Complexity\n",
    " \n",
    "\n"
   ]
  },
  {
   "cell_type": "markdown",
   "metadata": {},
   "source": [
    "- A **problem** is a binary relation connecting problem inputs to correct outputs.  \n",
    "If $I, O$ are the spaces of inputs and outputs, respectively then a problem is a subset $R\\subset I\\times O$. (In set theory, $R$ is called a relation.)\n",
    "\n",
    "    - Example 1: $I$ can be the space of photos (e.g. 100x100 black and white photos) and $O$ the space of texts, and the relation $R$ between a photo and a text holds if the text is a description (caption) for the photo. \n",
    "\n",
    "    - Example 2: Given a set $S$, $I$ is the set of functions on $S$ and $O=\\mathbb{R}$ the relation $R$ gives the absolute minimum of the functions $f: S\\to \\mathbb{R}$. Note: $S$ may be discreet or of a very high dimension. (Optimization)\n",
    "\n",
    "- A (deterministic) **algorithm** is a procedure that maps inputs to *single* outputs: $f: I\\to O$. \n",
    "- An algorithm **solves** a problem if for every problem input it returns a correct output. \n",
    "\n",
    "We want to not only solve problems, but to **communicate** to others that a solution to a problem is both **correct** and **efficient**. \n",
    "\n",
    "In this class, we try to solve problems which generalize to inputs that may be arbitrarily large. "
   ]
  },
  {
   "cell_type": "markdown",
   "metadata": {},
   "source": [
    "**Sample problem:** Given the students in this class, return either the names of two students who share the same birthday and year, or state that no such pair exists. "
   ]
  },
  {
   "cell_type": "markdown",
   "metadata": {},
   "source": [
    "**Solution:**"
   ]
  },
  {
   "cell_type": "markdown",
   "metadata": {},
   "source": [
    "## Correctness \n",
    "Any computer program you write will have finite size, while an input it acts on may be arbitrarily large. Thus every algorithm we discuss in this class will need to repeat commands in the algorithm via loops or recursion, and we will be able to prove correctness of the algorithm via **induction** on the size of input. \n",
    "\n",
    "\n",
    "**Proof of the correcness for bithday matching algorithm:**"
   ]
  },
  {
   "cell_type": "markdown",
   "metadata": {},
   "source": [
    "## Efficiency\n",
    "\n",
    "One program is said to be more efficient than another if it can solve the same problem input using fewer resources (most importantly memory and running time).  \n",
    "\n",
    "The resources used by a program depend on the algorithm, hardware on which the program is run, the programming language, plus code optimization and even the operating system. \n",
    "\n",
    "We compare algorithms based on their _asymptotic performance_ relative to problem input size. It enables us to ignore constant factor differences in hardware performance."
   ]
  },
  {
   "cell_type": "markdown",
   "metadata": {},
   "source": [
    "## Model of computation\n",
    "\n",
    "\n",
    "A model of computation: we need to model how long a computer takes to perform basic operations.\n",
    "\n",
    "A **machine word** is a sequence of w bits representing an integer from the set {0, . . . , 2w − 1}. \n",
    "In ordinary computers, word lengths is either 32 or 64 bits. However words lengths of up to 512 bits have been used (e.g. Intel Xeon Phi CPU).\n",
    "\n",
    "A **Word-RAM processor** can perform basic binary operations on two machine words in constant \n",
    "time, including addition, subtraction, multiplication, integer division, modulo, bitwise operations, \n",
    "and binary comparisons. \n",
    "\n",
    "A processor can access only $2^{w}$ addresses in the memory. For a 64-bit machine: 10^10 GB, for a 32-bit machine: 4 GB\n"
   ]
  },
  {
   "cell_type": "markdown",
   "metadata": {},
   "source": [
    "## Asymptotic notation\n",
    "\n",
    "### Asymptotic upper bound: O Notation:  \n",
    "Non-negative function g(n) is in O(f(n)) if and only if g(n) ≤ c · f(n) for some constant c and for all n greater than some constant $n_0$.   \n",
    "\n",
    "E.g. $3x^2+2x+4 \\in O(?)$\n",
    "### Asymptotic upper bound: Ω  Notation:  \n",
    "Non-negative function g(n) is in O(f(n)) if and only if  c · f(n) ≤ g(n)  for some constant c and for all n greater than some constant integer $n_0$.   \n",
    "\n",
    "\n",
    "### Asymptotic lower bound: Θ Notation:\n",
    "$\\Theta(f(n))=O(f(n))\\cap \\Sigma(f(n))$\n",
    "\n",
    "\n",
    "### Examples of operations:\n",
    "It is common to use the variable ‘n’ to represent a parameter that is linear in the problem input size.\n",
    "\n",
    "$O(1)$: accessing the element at a specific index in an array (random access).\n",
    "\n",
    "$O(\\log n)$: dividing an integer by a constant till the result becomes $<1$; binary search in a sorted array.\n",
    "\n",
    "$O(n)$: finding the length of a null-ended string; traversing a linked list.  \n",
    "\n",
    "$O(n\\log n)$: Merse sort algorithm\n",
    "\n",
    "$O(n^2)$: any algorithm involving pairwise comparison of the elements in a set, such as the birthday matching problem.  \n",
    "\n",
    "$O(n^3)$: multiplying two $n\\times n$ matrices; finding the mimimum free energy structure of an RNA sequence of length $n$\n",
    "\n",
    "$O(e^n)$: finding all the subsets of a set; some community detection algorithms in network analysis. \n",
    "\n",
    "\n"
   ]
  }
 ],
 "metadata": {
  "kernelspec": {
   "display_name": "Python 3 (ipykernel)",
   "language": "python",
   "name": "python3"
  },
  "language_info": {
   "codemirror_mode": {
    "name": "ipython",
    "version": 3
   },
   "file_extension": ".py",
   "mimetype": "text/x-python",
   "name": "python",
   "nbconvert_exporter": "python",
   "pygments_lexer": "ipython3",
   "version": "3.8.12"
  }
 },
 "nbformat": 4,
 "nbformat_minor": 2
}
