{
 "cells": [
  {
   "cell_type": "markdown",
   "metadata": {},
   "source": [
    "# Course info\n",
    "\n",
    "**Title:** Data Structures and Algorithms (for the students of Computer Science)\n",
    "\n",
    "**Venue:** Shiraz University, Shiraz, Iran\n",
    "\n",
    "**Instructor:** Reza Rezazadegan\n",
    "\n",
    "**Course webpage:** https://www.dreamintelligent.com/data-structures\n",
    "\n",
    "**Course Github:** https://github.com/rezareza007/datastructs2024\n",
    "\n",
    "**Texts:**\n",
    "- Introduction to Algorithms from MIT Open Courseware, available [here](https://ocw.mit.edu/courses/6-006-introduction-to-algorithms-spring-2020/).\n",
    "- Rance Nicaise, Data Structures and Algorithms Using Python, 2011\n",
    "\n",
    "**Prerequisites:** familiarity with Python programming, including lists, loops, conditionals and classes\n",
    "\n",
    "**Course evaluation:**\n",
    "- In-class problem solving (40 minutes a week, 5 points)\n",
    "- Coding project and presentation (4 points). Projects must be in form of a jupyter notebook. Please check the subject of your project with me in advance.  \n",
    "- Written exam (11 points)\n",
    "\n",
    "\n",
    "**Course syllabus**\n",
    "\n",
    "0- Introductions: Problems, algorithms and efficiency  (MIT 1, Nicaise 1,4)\n",
    "1- Sequence structure: arrays  (MIT 2, Nicaise 2)\n",
    "2- Sequence structure: linked lists  (Nicaise 6)\n",
    "3- Sequence structure: Queues and Stacks  (Nicaise 7,8)\n",
    "4- Sets and Maps  (Nicaise 3)\n",
    "5- Sorting and Searching (MIT 3, Nicaise 5)  \n",
    "6- Hashing (MIT 4, Nicaise 11) \n",
    "7- Advanced sorting (MIT 5, Nicaise 12) \n",
    "8- Binary Trees (Nicaise 13, MIT 6) \n",
    "9- AVL Trees  (Nicaise 14, MIT 7,8)\n",
    "10- Breadth First Search (MIT 9)   \n",
    "11- Depth First Search  (MIT 10)\n",
    "12- Weighted Shortest Paths  (MIT 11)\n",
    "13- Dijkstra algorithm  (MIT 13)\n",
    "14- Recursive algorithms  (MIT 15, Nicaise 10)\n",
    "15- Complexity (MIT 19)\n",
    " \n",
    "\n"
   ]
  },
  {
   "cell_type": "markdown",
   "metadata": {},
   "source": [
    "- A **problem** is a binary relation connecting problem inputs to correct outputs.  \n",
    "If $I, O$ are the spaces of inputs and outputs, respectively then a problem is a subset $R\\subset I\\times O$. (In set theory, $R$ is called a relation.)\n",
    "\n",
    "    - Example 1: $I$ can be the space of photos (e.g. 100x100 black and white photos) and $O$ the space of texts, and the relation $R$ between a photo and a text holds if the text is a description (caption) for the photo. \n",
    "\n",
    "    - Example 2: Given a set $S$, $I$ is the set of functions on $S$ and $O=\\mathbb{R}$ the relation $R$ gives the absolute minimum of the functions $f: S\\to \\mathbb{R}$. Note: $S$ may be discreet or of a very high dimension. (Optimization)\n",
    "\n",
    "- A (deterministic) **algorithm** is a procedure that maps inputs to *single* outputs: $f: I\\to O$. \n",
    "- An algorithm **solves** a problem if for every problem input it returns a correct output. \n",
    "\n",
    "We want to not only solve problems, but to **communicate** to others that a solution to a problem is both **correct** and **efficient**. \n",
    "\n",
    "In this class, we try to solve problems which generalize to inputs that may be arbitrarily large. "
   ]
  },
  {
   "cell_type": "markdown",
   "metadata": {},
   "source": [
    "**Sample problem:** Given the students in this class, return either the names of two students who share the same birthday and year, or state that no such pair exists. "
   ]
  },
  {
   "cell_type": "markdown",
   "metadata": {},
   "source": [
    "**Solution:**"
   ]
  },
  {
   "cell_type": "markdown",
   "metadata": {},
   "source": [
    "## Correctness \n",
    "Any computer program you write will have finite size, while an input it acts on may be arbitrarily large. Thus every algorithm we discuss in this class will need to repeat commands in the algorithm via loops or recursion, and we will be able to prove correctness of the algorithm via **induction** on the size of input. \n",
    "\n",
    "\n",
    "**Proof of the correcness for bithday matching algorithm:**"
   ]
  },
  {
   "cell_type": "markdown",
   "metadata": {},
   "source": [
    "## Efficiency\n",
    "\n",
    "One program is said to be more efficient than another if it can solve the same problem input using fewer resources (most importantly memory and running time).  \n",
    "\n",
    "The resources used by a program depend on the algorithm, hardware on which the program is run, the programming language, plus code optimization and even the operating system. \n",
    "\n",
    "We compare algorithms based on their _asymptotic performance_ relative to problem input size. It enables us to ignore constant factor differences in hardware performance."
   ]
  },
  {
   "cell_type": "markdown",
   "metadata": {},
   "source": [
    "## Model of computation\n",
    "\n",
    "\n",
    "A model of computation: we need to model how long a computer takes to perform basic operations.\n",
    "\n",
    "A **machine word** is a sequence of w bits representing an integer from the set {0, . . . , 2w − 1}. \n",
    "In ordinary computers, word lengths is either 32 or 64 bits. However words lengths of up to 512 bits have been used (e.g. Intel Xeon Phi CPU).\n",
    "\n",
    "A **Word-RAM processor** can perform basic binary operations on two machine words in constant \n",
    "time, including addition, subtraction, multiplication, integer division, modulo, bitwise operations, \n",
    "and binary comparisons. \n",
    "\n",
    "Side note: a processor can access only $2^{w}$ addresses in the memory. For a 64-bit machine: 10^10 GB, for a 32-bit machine: 4 GB\n",
    "\n",
    "Using a model of computation we can count the number of basic operations an algorithm performs, as a function $f(n)$ of the input size $n$. Then using the asymptotic notation below, we analyze the asymptotic behavior of this $f(n)$.\n"
   ]
  },
  {
   "cell_type": "markdown",
   "metadata": {},
   "source": [
    "## Asymptotic notation\n",
    "\n",
    "### Asymptotic upper bound: O Notation:  \n",
    "Non-negative function g(n) is in O(f(n)) if and only if g(n) ≤ c · f(n) for some constant c and for all n greater than some constant $n_0$.   \n",
    "\n",
    "E.g. $3x^2+2x+4 \\in O(?)$\n",
    "\n",
    "E.g. $x \\notin O(\\log x)$ and this means that even if $c$ is a very very small positive number then after some $x_0$, the graph of $y=cx$ lies \"above\" the graph of $y=\\log x$.\n",
    "\n",
    "### Asymptotic upper bound: Ω  Notation:  \n",
    "Non-negative function g(n) is in O(f(n)) if and only if  c · f(n) ≤ g(n)  for some constant c and for all n greater than some constant integer $n_0$.   \n",
    "\n",
    "\n",
    "### Asymptotic lower bound: Θ Notation:\n",
    "$\\Theta(f(n))=O(f(n))\\cap \\Sigma(f(n))$\n",
    "\n",
    "\n",
    "### Examples of operations:\n",
    "It is common to use the variable ‘n’ to represent a parameter that is linear in the problem input size.\n",
    "\n",
    "$O(1)$: accessing the element at a specific index in an array (random access).\n",
    "\n",
    "$O(\\log n)$: dividing an integer by a constant till the result becomes $<1$; binary search in a sorted array.\n",
    "\n",
    "$O(n)$: finding the length of a null-ended string; traversing a linked list.  \n",
    "\n",
    "$O(n\\log n)$: Merge sort algorithm\n",
    "\n",
    "$O(n^2)$: any algorithm involving pairwise comparison of the elements in a set, such as the birthday matching problem.  \n",
    "\n",
    "$O(n^3)$: multiplying two $n\\times n$ matrices; finding the mimimum free energy structure of an RNA sequence of length $n$\n",
    "\n",
    "$O(e^n)$: finding all the subsets of a set; some community detection algorithms in network analysis. \n",
    "\n",
    "\n"
   ]
  },
  {
   "cell_type": "markdown",
   "metadata": {},
   "source": [
    "## Data Structures"
   ]
  },
  {
   "cell_type": "markdown",
   "metadata": {},
   "source": [
    "- A **data structure** is a way to store non-constant data, that supports a set of operations to interact with data.\n",
    "\n",
    "- A collection of such operations is called an **interface** or **Abstract Data Type (ADT)**.\n",
    "\n",
    "In other words an interface or ADT is a set of specifications and a data structure is a way of implementing those specifications. There may be more than one data structure corresponding to an interface. \n",
    "\n",
    "Examples of interfaces: \n",
    "- **Sequence:** A linear list of elements with _extrinsic order_ (first, last, n'th) \n",
    "- **Set:** A pool (bag) of elements with _intrinsic order_ (queries based on item keys) \n",
    "\n",
    "\n",
    "Example of a data structure: Static Array data structure for the sequence interface:\n",
    "\n",
    "- `StaticArray(n)`: allocate a new static array of size n initialized to 0 in Θ(n) time \n",
    "- `StaticArray.get_at(i)`: return the word stored at array index i in Θ(1) time \n",
    "- `StaticArray.set_at(i, x)`: write the word x to array index i in Θ(1) time \n",
    "\n",
    "As we'll see the sequence interface can be implemented by the _linked list_ data structure as well. \n"
   ]
  },
  {
   "cell_type": "code",
   "execution_count": null,
   "metadata": {},
   "outputs": [],
   "source": [
    "class StaticArray:\n",
    "    def __init__(self, n):\n",
    "        self.data = [None] * n\n",
    "\n",
    "    def get_at(self, i):\n",
    "        if not (0 <= i < len(self.data)): raise IndexError\n",
    "        return self.data[i]\n",
    "    \n",
    "    def set_at(self, i, x):\n",
    "        if not (0 <= i < len(self.data)): raise IndexError\n",
    "        self.data[i] = x\n",
    "\n",
    "    def birthday_match(students):\n",
    "        '''\n",
    "        Find a pair of students with the same birthday\n",
    "        Input: tuple of student (name, bday) tuples\n",
    "        Output: tuple of student names or None\n",
    "        '''\n",
    "        n = len(students)                  # O(1)\n",
    "        #record = StaticArray(n)            # O(n)\n",
    "        for k in range(n):                 # n\n",
    "            (name1, bday1) = students[k]   # O(1)\n",
    "            for i in range(k):             # k Check if in record\n",
    "                (name2, bday2) = students.get_at(i) # O(1)\n",
    "                if bday1 == bday2:         # O(1)\n",
    "                    return (name1, name2)  # O(1)\n",
    "            #record.set_at(k, (name1, bday1)) # O(1)\n",
    "\n",
    "        return None # O(1)\n"
   ]
  },
  {
   "cell_type": "markdown",
   "metadata": {},
   "source": [
    "Note: in a low-level implementation of an array (such as in C, or what is undelying a Python list), for the get_at and set_at functions, the address of the element at index i is computed as $b+i*d$ where $b$ is the address of the 0'th element of the array and $d$ is the (fixed) size of its elements. This is done in O(1)."
   ]
  },
  {
   "cell_type": "markdown",
   "metadata": {},
   "source": [
    "## Time Complexity Analysis for birthday matching problem\n",
    "\n",
    "The inner loop in the above implementation involves 3k operations (in the wrst case that a match is not found), and looking at the outer loop, $k$ ranges from 0 to $n-1$, thus we have $2(0+1+2+3+\\cdots+ n-1 )=\\frac{2}{2} (n-1)(n-2)$ operations which is $O(n^2)$.\n",
    "\n",
    "Is it efficient?\n"
   ]
  },
  {
   "cell_type": "markdown",
   "metadata": {},
   "source": [
    "## Problems\n",
    "\n",
    "1- Show that for each $p>1$, $\\sqrt[p]{n}$ does not belong to $O(\\log n)$.  \n",
    "\n",
    "2- Can you find a way so that the search part (i.e. deciding whether another student has the same birthday as the currect student) in the birthday matching problem can be done in O(1)?\n",
    "\n",
    "3- Show that $(\\log n)^{\\log n}$ is in $\\Omega(n)$.\n",
    "\n",
    "4- Show that $n! \\notin O(2^n)$. Hint: you can either use the definition of the two functions or makw use of Stirling's approximation: $n!\\sim \\sqrt{2\\pi n} (n/e)^n$. \n",
    "\n",
    "5- Show that $(n+1)!$ is not in $\\Theta(n!)$.\n",
    "\n",
    "6- Can parallel processing make an (implementation) of an algorithm with complexity $O(n^2)$ to run similar to an algorithm of complexity, say, $O(n)$?\n",
    "\n",
    "7- How can a Python list contain elements of different types?"
   ]
  },
  {
   "cell_type": "markdown",
   "metadata": {},
   "source": []
  }
 ],
 "metadata": {
  "kernelspec": {
   "display_name": "Python 3 (ipykernel)",
   "language": "python",
   "name": "python3"
  },
  "language_info": {
   "codemirror_mode": {
    "name": "ipython",
    "version": 3
   },
   "file_extension": ".py",
   "mimetype": "text/x-python",
   "name": "python",
   "nbconvert_exporter": "python",
   "pygments_lexer": "ipython3",
   "version": "3.8.12"
  }
 },
 "nbformat": 4,
 "nbformat_minor": 2
}
